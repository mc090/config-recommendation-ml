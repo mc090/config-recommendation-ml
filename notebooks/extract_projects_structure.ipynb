{
 "cells": [
  {
   "cell_type": "markdown",
   "id": "0c0ce1f8",
   "metadata": {},
   "source": [
    "# Notebook to extract structure of project from GitHub repository."
   ]
  }
 ],
 "metadata": {
  "language_info": {
   "name": "python"
  }
 },
 "nbformat": 4,
 "nbformat_minor": 5
}
